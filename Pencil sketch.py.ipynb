{
 "cells": [
  {
   "cell_type": "code",
   "execution_count": 24,
   "id": "94610c25",
   "metadata": {},
   "outputs": [],
   "source": [
    "import cv2"
   ]
  },
  {
   "cell_type": "markdown",
   "id": "c1ce891e",
   "metadata": {},
   "source": [
    "# Read image"
   ]
  },
  {
   "cell_type": "code",
   "execution_count": 25,
   "id": "2d744206",
   "metadata": {},
   "outputs": [],
   "source": [
    "image= cv2.imread(\"raj.jpg\")"
   ]
  },
  {
   "cell_type": "markdown",
   "id": "291c2b16",
   "metadata": {},
   "source": [
    "# Convert to Grey Image"
   ]
  },
  {
   "cell_type": "code",
   "execution_count": 26,
   "id": "d46b1b50",
   "metadata": {},
   "outputs": [],
   "source": [
    "grey_filter = cv2.cvtColor(image, cv2.COLOR_BGR2GRAY)"
   ]
  },
  {
   "cell_type": "markdown",
   "id": "b0e807bf",
   "metadata": {},
   "source": [
    "# Invert Image"
   ]
  },
  {
   "cell_type": "code",
   "execution_count": 27,
   "id": "c741dfd0",
   "metadata": {},
   "outputs": [],
   "source": [
    "invert = cv2.bitwise_not(grey_filter)"
   ]
  },
  {
   "cell_type": "markdown",
   "id": "edcb480f",
   "metadata": {},
   "source": [
    "# Blur Image"
   ]
  },
  {
   "cell_type": "code",
   "execution_count": 28,
   "id": "9045b6c4",
   "metadata": {},
   "outputs": [],
   "source": [
    "blur = cv2.GaussianBlur(invert, (21,21),0)"
   ]
  },
  {
   "cell_type": "markdown",
   "id": "0c52d843",
   "metadata": {},
   "source": [
    "# invert Blurred image"
   ]
  },
  {
   "cell_type": "code",
   "execution_count": 29,
   "id": "bdd67b22",
   "metadata": {},
   "outputs": [],
   "source": [
    "invertedblur = cv2.bitwise_not(blur)"
   ]
  },
  {
   "cell_type": "markdown",
   "id": "a417f481",
   "metadata": {},
   "source": [
    "# Sketch Image"
   ]
  },
  {
   "cell_type": "code",
   "execution_count": 30,
   "id": "f9972a6f",
   "metadata": {},
   "outputs": [],
   "source": [
    "sketch_filter = cv2.divide(grey_filter, invertedblur,scale=256.0)"
   ]
  },
  {
   "cell_type": "markdown",
   "id": "315447b5",
   "metadata": {},
   "source": [
    "# Save Sketch image"
   ]
  },
  {
   "cell_type": "code",
   "execution_count": 31,
   "id": "1acb5cca",
   "metadata": {},
   "outputs": [
    {
     "data": {
      "text/plain": [
       "True"
      ]
     },
     "execution_count": 31,
     "metadata": {},
     "output_type": "execute_result"
    }
   ],
   "source": [
    "cv2.imwrite(\"output1.png\",sketch_filter)"
   ]
  },
  {
   "cell_type": "code",
   "execution_count": null,
   "id": "09dbb576",
   "metadata": {},
   "outputs": [],
   "source": []
  }
 ],
 "metadata": {
  "kernelspec": {
   "display_name": "Python 3 (ipykernel)",
   "language": "python",
   "name": "python3"
  },
  "language_info": {
   "codemirror_mode": {
    "name": "ipython",
    "version": 3
   },
   "file_extension": ".py",
   "mimetype": "text/x-python",
   "name": "python",
   "nbconvert_exporter": "python",
   "pygments_lexer": "ipython3",
   "version": "3.9.12"
  }
 },
 "nbformat": 4,
 "nbformat_minor": 5
}
